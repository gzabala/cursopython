{
 "cells": [
  {
   "cell_type": "markdown",
   "id": "integrated-mercury",
   "metadata": {
    "slideshow": {
     "slide_type": "slide"
    }
   },
   "source": [
    "# ¿Por qué Python?"
   ]
  },
  {
   "cell_type": "markdown",
   "id": "crude-cache",
   "metadata": {
    "slideshow": {
     "slide_type": "fragment"
    }
   },
   "source": [
    "Algunos motivos debe haber, para que ocurra lo siguiente:<br>\n",
    "<center><img src=\"images/top10.png\" alt=\"Top 10\" title=\"Primero, y sigue subiendo\" /></center><br>"
   ]
  },
  {
   "cell_type": "markdown",
   "id": "consistent-defensive",
   "metadata": {
    "slideshow": {
     "slide_type": "fragment"
    }
   },
   "source": [
    "Mi **hijo** lo aprendió a usar en la Licenciatura en Química. Mi hija está haciendo un curso de Python para Lingüistas... Algo debe tener... "
   ]
  },
  {
   "cell_type": "markdown",
   "id": "marked-mount",
   "metadata": {
    "slideshow": {
     "slide_type": "slide"
    }
   },
   "source": [
    "## Lista de razones (que pueden no compartir...)"
   ]
  },
  {
   "cell_type": "markdown",
   "id": "eligible-crossing",
   "metadata": {
    "slideshow": {
     "slide_type": "fragment"
    }
   },
   "source": [
    " - Es fácil de aprender (es el nuevo Basic)\n",
    " - Es interpretado (y lo interpretado es más fácil de depurar y testear)\n",
    " - Tipado dinámico (cualquier cosa, me compro más RAM y procesador)\n",
    " - Tiene una ENORME comunidad de desarrolladores (y de diferentes campos)\n",
    " - Las librerías son realizadas por la comunidad, y por lo tanto... HAY UNA ENORME CANTIDAD DE LIBRERÍAS (y muy buenas!)"
   ]
  },
  {
   "cell_type": "markdown",
   "id": "accessible-seeker",
   "metadata": {
    "slideshow": {
     "slide_type": "subslide"
    }
   },
   "source": [
    "<center><img src=\"images/Languages.png\" alt=\"¿Con qué lenguaje escribo un ensayo?\" title=\"Escribiendo un ensayo en diferentes lenguajes de programación\" /></center><br>"
   ]
  },
  {
   "cell_type": "markdown",
   "id": "approved-negotiation",
   "metadata": {
    "slideshow": {
     "slide_type": "slide"
    }
   },
   "source": [
    "# Instalando Python"
   ]
  },
  {
   "cell_type": "markdown",
   "id": "miniature-stationery",
   "metadata": {
    "slideshow": {
     "slide_type": "slide"
    }
   },
   "source": [
    "## Instalación tradicional de Python"
   ]
  },
  {
   "cell_type": "markdown",
   "id": "meaning-annual",
   "metadata": {
    "slideshow": {
     "slide_type": "subslide"
    }
   },
   "source": [
    "1. Ir a https://www.python.org/downloads/ y bajar la versión deseada\n",
    "2. Ejecutarla"
   ]
  },
  {
   "cell_type": "markdown",
   "id": "running-powell",
   "metadata": {
    "slideshow": {
     "slide_type": "fragment"
    }
   },
   "source": [
    "<center><img src=\"images/instalacion1.png\" alt=\"Primer paso de la instalación\" title=\"Primer paso de la instalación\" /></center><br>"
   ]
  },
  {
   "cell_type": "markdown",
   "id": "hidden-somerset",
   "metadata": {
    "slideshow": {
     "slide_type": "fragment"
    }
   },
   "source": [
    "<center><img src=\"images/instalacion2.png\" alt=\"Segundo paso de la instalación\" title=\"Segundo paso de la instalación\" /></center>\n",
    "\n",
    " - pip: instalador de paquetes\n",
    " - tcl/tk: GUI para Python clásica\n",
    " - test suite: librería estándar para testeos\n",
    " - py launcher: nos permite lanzar diferentes versiones de Python"
   ]
  },
  {
   "cell_type": "markdown",
   "id": "cardiac-plain",
   "metadata": {
    "slideshow": {
     "slide_type": "subslide"
    }
   },
   "source": [
    "<center><img src=\"images/instalacion3.png\" alt=\"Tercer paso de la instalación\" title=\"Tercer paso de la instalación\" /></center>\n",
    "\n",
    " - download debug: para poder debuggear desde Visual Studio\n",
    " - install all users: recomendable. Path razonable\n",
    " - precompile: así ya está compilado la primera vez que lo necesite"
   ]
  },
  {
   "cell_type": "markdown",
   "id": "statutory-alaska",
   "metadata": {
    "slideshow": {
     "slide_type": "slide"
    }
   },
   "source": [
    "## Modos de ejecución\n",
    "1. Modo interactivo: permite ejecutar sentencias o bloques de forma inmediata. Sirve para hacer testeos, cálculos, leer doc (help())."
   ]
  },
  {
   "cell_type": "code",
   "execution_count": 6,
   "id": "binary-syndicate",
   "metadata": {
    "slideshow": {
     "slide_type": "fragment"
    }
   },
   "outputs": [
    {
     "name": "stdout",
     "output_type": "stream",
     "text": [
      "7\n"
     ]
    }
   ],
   "source": [
    "print(5+2)"
   ]
  },
  {
   "cell_type": "markdown",
   "id": "distributed-default",
   "metadata": {},
   "source": [
    "2. Modo script: clásico, archivo de texto que se interpreta."
   ]
  },
  {
   "cell_type": "markdown",
   "id": "instructional-batch",
   "metadata": {},
   "source": [
    "# IDEs"
   ]
  },
  {
   "cell_type": "markdown",
   "id": "atlantic-satisfaction",
   "metadata": {},
   "source": [
    "## Cada loco con su IDE...\n",
    "\n",
    "Hay muchas, buenas, con sus pro y contra.\n",
    "https://hackr.io/blog/best-python-ide\n",
    "\n",
    "Si se activó la casilla, viene por defecto IDLE. \n",
    "<center><img src=\"images/idle.png\" alt=\"IDE de regalo\" title=\"IDE que viene en la instalación.\" /></center><br>\n",
    "Bastante limitado... Es una mezcla de modo interactivo y ejecutador de scripts."
   ]
  },
  {
   "cell_type": "markdown",
   "id": "lucky-minimum",
   "metadata": {},
   "source": [
    "## PyCharm (community edition)\n",
    "\n",
    "https://www.jetbrains.com/pycharm/\n",
    "\n",
    "- Editor de código con sugerencias\n",
    "- Pretty print\n",
    "- Muchos plugins\n",
    "- Shortcuts inteligentes (saltos entre módulos)\n",
    "- Herramientas de refactoring\n",
    "- Muy buen debugger\n",
    "- Muy fácil de instalar"
   ]
  },
  {
   "cell_type": "markdown",
   "id": "shaped-utilization",
   "metadata": {},
   "source": [
    "<center><img src=\"images/pycharm.png\" alt=\"PyCharm\" title=\"PyCharm\" /></center>"
   ]
  },
  {
   "cell_type": "markdown",
   "id": "through-burton",
   "metadata": {},
   "source": [
    "## Visual Studio Code (nuestro elegido, también *free*)\n",
    "\n",
    "https://code.visualstudio.com/\n",
    "- Multilenguaje\n",
    "- Themes variados\n",
    "- Extensiones múltiples\n",
    "- Intellisense\n",
    "- Excelentes herramientas de debugging\n",
    "- Refactoring\n",
    "- Built-in Git\n",
    "- Muy configurable\n",
    "- Más complicado de instalar y configurar\n",
    "    "
   ]
  },
  {
   "cell_type": "markdown",
   "id": "certain-native",
   "metadata": {},
   "source": [
    "<center><img src=\"images/visualstudiocode.png\" alt=\"Visual Studio Code\" title=\"Visual Studio Code\" /></center>"
   ]
  },
  {
   "cell_type": "markdown",
   "id": "interpreted-separate",
   "metadata": {},
   "source": [
    "Debemos instalar la extensión para Python que se encuentra aquí: https://marketplace.visualstudio.com/items?itemName=ms-python.python"
   ]
  },
  {
   "cell_type": "markdown",
   "id": "ethical-granny",
   "metadata": {},
   "source": [
    "Y definir qué versión de Python vamos a utilizar:\n",
    "<center><img src=\"images/versionpython.png\" alt=\"Set up environment\" title=\"Set up environment\" /></center>"
   ]
  },
  {
   "cell_type": "markdown",
   "id": "trying-proceeding",
   "metadata": {},
   "source": [
    "### Sacándole el jugo a VSC\n",
    "\n",
    "Muuucho botón derecho... (*Ejemplo Robot Soccer*)\n",
    "\n",
    " - Ver definición y referencias (goto o peek)\n",
    " - Renombrar símbolos (refactorización)\n",
    " - Reformatear (podemos instalar reformateadores propios\n",
    " - Refactor: Extraer variable / método\n",
    " - Source Action: Ordenar los imports\n",
    " - Ejecución en ventanas:\n",
    "     - Interactive window: abre una ventana aparte, ejecuta el código y me permite seguir jugando con él\n",
    "     - Selection in terminal: ejecuta una o más líneas en el terminal\n",
    " - Shift+Enter: ejecutar código en terminal\n",
    " - Command palette: Ctrl+Shift+P - Acceso a toda las funcionalidades de VSC!!\n",
    "     - Limpiar el terminal (Terminal clear)\n",
    "     - Ir a un símbolo (Goto symbol)\n",
    "     - Ir a una línea (Goto line)\n",
    "     - Ver cuáles tienen shortcuts. Se puede modificar desde File / Preferences (agregarle al Terminal clear...)\n",
    " "
   ]
  },
  {
   "cell_type": "markdown",
   "id": "differential-herald",
   "metadata": {},
   "source": [
    "# Ejercicio\n",
    "\n",
    "1. Instalar Python\n",
    "2. Instalar Visual Studio Code\n",
    "3. Agregar extensión para Python\n",
    "4. Realizar un pequeño programa que presente el resultado de multiplicar el valor de dos variables\n",
    "5. Importar math y realizar un programa que calcule:\n",
    "    - El factorial de un número\n",
    "    - La superficie de un círculo de radio r\n",
    "    - El resto de dividir m por n"
   ]
  },
  {
   "cell_type": "code",
   "execution_count": null,
   "id": "theoretical-brunei",
   "metadata": {},
   "outputs": [],
   "source": []
  }
 ],
 "metadata": {
  "kernelspec": {
   "display_name": "Python 3",
   "language": "python",
   "name": "python3"
  },
  "language_info": {
   "codemirror_mode": {
    "name": "ipython",
    "version": 3
   },
   "file_extension": ".py",
   "mimetype": "text/x-python",
   "name": "python",
   "nbconvert_exporter": "python",
   "pygments_lexer": "ipython3",
   "version": "3.7.7"
  },
  "toc-autonumbering": true,
  "toc-showcode": false,
  "toc-showmarkdowntxt": false
 },
 "nbformat": 4,
 "nbformat_minor": 5
}
