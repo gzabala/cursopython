{
 "cells": [
  {
   "cell_type": "markdown",
   "id": "imposed-thunder",
   "metadata": {},
   "source": [
    "# Ejercicios\n",
    "\n",
    "1. Dado un número entero, imprimir la cantidad de dígitos.\n",
    "2. Dada una cadena, imprimir la primer palabra (la cadena sólo contiene letras y espacios)\n",
    "3. Dada una lista y un elemento, imprimir la lista a partir de ese elemento. Por ejemplo, si la lista es [4, 8, 3, 2, 7, 5] y el elemento es 3, imprimir [3, 2, 7, 5]\n",
    "4. Dada una cadena, indicar si están todos sus caracteres en mayúsculas (la cadena tiene caracteres alfanuméricos, numéricos y espacios.\n",
    "5. ¿Existe un método \"opuesto\" a join? Buscarlo y dar un ejemplo de uso. \"1,2,3,4,5\" -> [1, 2, 3, 4, 5]\n",
    "6. Dada una lista, imprimirla al revés.\n",
    "7. Dada una lista, el primer elemento debe pasar al final. Si la lista está vacía o tiene un único elemento, debe quedar igual.\n",
    "8. Dado un número entero, indicar cuál de sus dígitos es el mayor.  \n",
    "Hasta aquí para el martes 15/6\n",
    "---\n",
    "\n",
    "9. Dada una palabra, imprimir \"Longitud válida\" si tiene 6 o más caracteres.\n",
    "10. Dado un número entero, imprimir la cantidad de ceros que hay al final del número.\n",
    "\n",
    "## Funciones\n",
    "1. Dada una cadena, devolver una lista dividiendo la cadena en subcadenas de dos caracteres. Si tiene un nro impar de caracteres, completar el último par con guión bajo. \"Un ejemplar\"->[\"Un\", \" e\", \"je\", \"mp\",\"la\", \"r_\"] \n",
    "2. Dada una cadena, devolver la cantidad de . que tiene al comienzo la cadena. \".....casa\"->5.\n",
    "3. Dado un conjunto de números, y un número aparte, devolver cuál es el número del conjunto más cercano al dado. {4,6,12,15,22}, 9->6 (podría haber devuelto 12 también)\n",
    "4. Dada una cadena, devolverla en formato \"correcto\": comenzando con mayúsculas y finalizando con un . \"esto es ejemplo\"->\"Esto es ejemplo.\"\n",
    "5. Dado una cadena, devolver la cadena con cada palabra invertida. La cadena tiene sólo caracteres alfanuméricos y espacios. \"Esto es ejemplo\"->\"otsE se olpmeje\"\n",
    "6. Dada una cadena, devolver la cantidad de dígitos que hay en la cadena. \"Acá tenemos 2 dígitos\"->1\n",
    "7. Dado un número M y varios diccionarios de la forma {\"prod\": \"manzana\", \"pre\":5.5}, devolver una lista con los M productos más caros. 2, {\"prod\":\"pan\", \"pre\": 100}, {\"prod\":\"arroz\", \"pre\": 50}, {\"prod\":\"leche\", \"pre\": 90}, {\"prod\":\"carne\", \"pre\": 300}->[{\"prod\":\"pan\", \"pre\": 100}, {\"prod\":\"carne\", \"pre\": 300}]\n",
    "8. Dadas una cadena C1, y una cadena C2, devolver la posición de la SEGUNDA vez que aparece C2 dentro de C1. Si no aparece o lo hace una sola vez, devolver None. \"Esto es una estatua\", \"st\"->13\n",
    "\n",
    "## Archivos de texto\n",
    "1. Desarrollar un programa que saque las líneas en blanco repetidas del archivo quijote.txt.\n",
    "2. Desarrollar un programa que escriba cada línea de quijote.txt invertida.\n",
    "3. Dado el nombre de un archivo y una palabra, devolver cuántas veces aparece la palabra en el archivo (como palabra, no como cadena)\n",
    "\n",
    "## Ejercicios de clase\n",
    "1. Rediseñar el ejemplo de Rectángulo y Círculo, porque hay algunos métodos que seguramente sean comunes o tengan alguna parte en común. STR, superficie, perímetro por ejemplo. Tengo que agregar: Cuadrado, Rombo, Polígono, Trapecio. \n",
    "La clase Cuadrado, hereda de Rectángulo? O Rectángulo hereda de Cuadrado? O ninguna de las dos?\n",
    "2. Quiero representar el personal de una escuela. Tengo administrativos, directivos, docentes y alumnos. PEnsar qué tienen en común, qué diferente y hacer una implementación sencilla de Personal.\n",
    "3. Para el ejercicio 1, agregar una clase abstracta Figura y llevar todo el comportamiento posible a esa clase.\n",
    "4. Se desea implementar un framework para campeonatos de diversas disciplinas. Para eso se ha decidido la creación de dos clases (decidir si son abstractas o no) que permitan definir los elementos esenciales del framework, y que luego heredadas permitan la creación de diferentes campeonatos.  \n",
    "\n",
    "Equipo: representa a un equipo participante del campeonato. Debe conocer los partidos que ha ganado, perdido y empatado. \n",
    "Debe poder responder cuántos puntos tiene, en qué posición se encuentra y si por ahora desciende o no (está entre los últimos dos equipos)  \n",
    "\n",
    "Campeonato: representa a un campeonato compuesto por varios equipos. Debe conocer el año en el que se desarrolla el campeonato, los puntos que entrega por cada partido ganado, empatado o perdido respectivamente. Debe poder responder con la tabla de posiciones y la cantidad de equipos que tiene en el campeonato.  \n",
    "\n",
    "Por otra parte, deseamos modelar campeonatos de fútbol, donde se da 3 puntos por pg y 1 por pe. Y campeonatos de badminton, donde se da 4 puntos por pg, 2 por pe, y 1 por pp.  \n",
    "\n",
    "Los equipos de fútbol además deben conocer la cantidad de goles a favor y goles en contra. Deben poder responder cuál es la diferencia de goles. Los campeonatos de fútbol también deben poder responder cuando se le solicita la cantidad total de goles del campeonato.  \n",
    "\n",
    "5. Dada la clase RobotRL de Sumo, crear dos subclases RobotDefensivo y otra RobotOfensivo, que ante la detección de otro robot, en el primer caso huya y en el otro ataque. Hacer un programa que arranque con un robotOfensivo pero luego de 30 segundo pase a un robotDefensivo.\n",
    "\n",
    "## Excepciones\n",
    "1. Modificar el programa que dado el nombre de un archivo y una palabra, devuelve la cantidad de apariciones de la palabra en el archivo, para que pueda manejar excepciones como la inexistencia del archivo solicitado.\n",
    "2. Encapsular la funcionalidad anterior en una función, testeando la precondición que debe haber un nombre de archivo y una palabra antes de llamar a la función, y que debe devolver un resultado mayor o igual a cero posteriormente."
   ]
  },
  {
   "cell_type": "code",
   "execution_count": null,
   "id": "resistant-recorder",
   "metadata": {},
   "outputs": [],
   "source": []
  }
 ],
 "metadata": {
  "kernelspec": {
   "display_name": "Python 3",
   "language": "python",
   "name": "python3"
  },
  "language_info": {
   "codemirror_mode": {
    "name": "ipython",
    "version": 3
   },
   "file_extension": ".py",
   "mimetype": "text/x-python",
   "name": "python",
   "nbconvert_exporter": "python",
   "pygments_lexer": "ipython3",
   "version": "3.7.7"
  }
 },
 "nbformat": 4,
 "nbformat_minor": 5
}
