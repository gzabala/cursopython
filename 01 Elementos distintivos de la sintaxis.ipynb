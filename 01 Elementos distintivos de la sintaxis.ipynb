{
 "cells": [
  {
   "cell_type": "markdown",
   "id": "vietnamese-promise",
   "metadata": {},
   "source": [
    "# Operadores"
   ]
  },
  {
   "cell_type": "code",
   "execution_count": null,
   "id": "measured-control",
   "metadata": {},
   "outputs": [],
   "source": [
    "# No tradicionales\n",
    "print(5**2)  # potenciación\n",
    "print(10%3)  # resto\n",
    "print(10//3)  # división entera\n",
    "# Multiplicación de cadenas???\n",
    "print(\"casa\"*5)\n",
    "# Concatenación (sólo para literales)\n",
    "print(\"casa\" \"hola\")"
   ]
  },
  {
   "cell_type": "code",
   "execution_count": null,
   "id": "original-biotechnology",
   "metadata": {},
   "outputs": [],
   "source": [
    "# operadores de asignación aumentada\n",
    "var=10\n",
    "var+=1\n",
    "print(var)\n",
    "var-=2\n",
    "print(var)\n",
    "var*=5\n",
    "print(var)"
   ]
  },
  {
   "cell_type": "code",
   "execution_count": null,
   "id": "imported-studio",
   "metadata": {},
   "outputs": [],
   "source": [
    "# operadores comparación y lógicos\n",
    "a=5\n",
    "b=12\n",
    "print(a==5)\n",
    "print(a!=b)\n",
    "print(a==5 and a!=b)\n",
    "print(a==7 or a==b)"
   ]
  },
  {
   "cell_type": "markdown",
   "id": "dominant-punishment",
   "metadata": {},
   "source": [
    "# Variables\n",
    " - Una sola palabra\n",
    " - Letras, números, y _\n",
    " - No empezar con números\n",
    " - Case sensitive\n",
    " - Tipado dinámico"
   ]
  },
  {
   "cell_type": "code",
   "execution_count": null,
   "id": "recognized-adjustment",
   "metadata": {},
   "outputs": [],
   "source": [
    "# No declaramos el tipo de una variable\n",
    "var1=10\n",
    "Var1=12.5 #case sensitive\n",
    "var2, var3=15, 12 # curiosa forma de asignación\n",
    "# print(\"var1 - Var1: \", var1, Var1) # no es lo mismo\n",
    "# print(f\"Suma: {var2+var3}\")\n",
    "# Con type(expresión) puedo saber el tipo de la expresión\n",
    "print(type(Var1))\n",
    "Var1=\"casa\"\n",
    "print(type(Var1))"
   ]
  },
  {
   "cell_type": "markdown",
   "id": "premier-belfast",
   "metadata": {},
   "source": [
    "# Tipos de datos básicos\n",
    "\n",
    " - Enteros (int)\n",
    " - Punto flotante (float)\n",
    " - Complejos (complex)\n",
    " - Booleanos (boolean)\n",
    " - Cadenas (string)"
   ]
  },
  {
   "cell_type": "code",
   "execution_count": null,
   "id": "convenient-pipeline",
   "metadata": {},
   "outputs": [],
   "source": [
    "print(type(5))\n",
    "print(type(5.3))\n",
    "print(type(3+5j))\n",
    "print(type(5==3))"
   ]
  },
  {
   "cell_type": "code",
   "execution_count": null,
   "id": "shaped-society",
   "metadata": {},
   "outputs": [],
   "source": [
    "#Tipado estricto\n",
    "\n",
    "# print(\"Casa\" + 5)\n",
    "#print(\"23\"+3)"
   ]
  },
  {
   "cell_type": "code",
   "execution_count": null,
   "id": "necessary-punch",
   "metadata": {},
   "outputs": [],
   "source": [
    "# A partir de 3.5 puedo usar type hints... No es una cuestión del intérprete, \n",
    "# es para legibilidad, o el uso de lints, y para autocompletado inteligente\n",
    "decimal:float=10.2\n",
    "print(decimal)\n",
    "decimal=\"Casa\"\n",
    "print(type(decimal))"
   ]
  },
  {
   "cell_type": "markdown",
   "id": "correct-december",
   "metadata": {},
   "source": [
    "# Cadenas"
   ]
  },
  {
   "cell_type": "code",
   "execution_count": null,
   "id": "center-persian",
   "metadata": {},
   "outputs": [],
   "source": [
    "# Con comillas dobles o simples es \"casi\" lo mismo (ambos son strings)\n",
    "print(\"cadena\")\n",
    "print('cadena')\n",
    "print(type(\"cadena\"), type('cadena'))"
   ]
  },
  {
   "cell_type": "code",
   "execution_count": null,
   "id": "least-halifax",
   "metadata": {},
   "outputs": [],
   "source": [
    "# podemos usar \\ para caracteres especiales\n",
    "print(\"Tab\\tconvencional\")\n",
    "print(\"Otro\\ttab\")\n",
    "print(\"Una línea\\ny otra\")\n",
    "# si quiero que no interprete caracteres especiales agrego una r (raw) delante de la cadena\n",
    "print(r\"C:\\Windows\\notebook\")"
   ]
  },
  {
   "cell_type": "code",
   "execution_count": null,
   "id": "outer-makeup",
   "metadata": {},
   "outputs": [],
   "source": [
    "# Multilínea\n",
    "print(\"Este texto si es muy pero muy pero muy largo podría dividirlo en varias líneas utilizando la barra invertida para \\\n",
    "separar de línea, pero como verán en la impresión se mantiene en una sola\")\n",
    "print(\"----\")\n",
    "# También podemos usar triple comilla\n",
    "print(\"\"\"Este texto también puede ser multilínea\n",
    "y no hace falta indicar el cambio de línea con barra invertida.\n",
    "Automáticamente toma todo lo escrito como cadena hasta que llegue de nuevo la triple comilla.\n",
    "En este caso se respeta las bajadas de línea.\"\"\")\n",
    "print(\"----\")\n",
    "print(\"Este es un texto \\\n",
    "pequeño\")"
   ]
  },
  {
   "cell_type": "code",
   "execution_count": null,
   "id": "developmental-moses",
   "metadata": {},
   "outputs": [],
   "source": [
    "# podemos acceder a substrings en forma indexada\n",
    "palabra=\"Dabale arroz a la zorra el abad\"\n",
    "print(palabra[2]) #Comienza en 0\n",
    "print(\"Ultima letra: \", palabra[-1], \" - Primera letra\", palabra[0]) #Con nros negativos comienza desde la derecha!! (no me digan que no es original!!!)\n",
    "print(palabra[3:5]) #Substring desde índice inicial (incluido) a final (excluido)\n",
    "print(palabra[7:])\n",
    "print(\"Cadena hasta la 7\", palabra[:7], \"impresa\")\n",
    "print(palabra[-3:]) #Con negativos toma desde el final pero luego sigue hacia la derecha, no invierte\n",
    "print(palabra[-8:-3]) # Esto sí que es raro\n",
    "print(palabra[:-8]) # No invierte cadenas"
   ]
  },
  {
   "cell_type": "code",
   "execution_count": null,
   "id": "returning-european",
   "metadata": {},
   "outputs": [],
   "source": [
    "# son inmutables\n",
    "palabra[2]=\"i\""
   ]
  },
  {
   "cell_type": "code",
   "execution_count": null,
   "id": "ranking-roulette",
   "metadata": {},
   "outputs": [],
   "source": [
    "# largo de una cadena\n",
    "print(len(palabra))\n",
    "print(palabra[:len(palabra)-1])"
   ]
  },
  {
   "cell_type": "code",
   "execution_count": 39,
   "id": "utility-cursor",
   "metadata": {},
   "outputs": [
    {
     "name": "stdout",
     "output_type": "stream",
     "text": [
      "Cadena hasta la 7 Daba\n",
      "le impresa\n"
     ]
    }
   ],
   "source": [
    "# Para combinación de variables y literales en una cadena, podemos usar cadenas formateables\n",
    "palabra=\"Daba\\nle arroz a la zorra el abad\"\n",
    "print(palabra[2]) #Comienza en 0\n",
    "print(f\"Ultima letra: {palabra[-1]} - Primera letra {palabra[0]}\")\n",
    "print(f\"Cadena hasta la 7 {palabra[:7]} impresa\")"
   ]
  },
  {
   "cell_type": "markdown",
   "id": "mature-color",
   "metadata": {},
   "source": [
    "# PEP 8\n",
    "\n",
    "- Basicos:\n",
    "  - Siempre preferir espacios en ves de tabs.\n",
    "  - Usar 4 espacios en la indentación.\n",
    "  - Las lineas deben tener menos de 80 caracteres.\n",
    "  - Las lineas que pasen de esta longitud deben ser divididas en dos lineas, y la linea resultante de la división debe estar indentada.\n",
    "  - En una fila, las funciones y las clases deben estar separadas por dos lineas en blanco.\n",
    "  - No colocar espacios alrededor de indices de lista, llamadas de funciones o argumentos.\n",
    "\n",
    "\n",
    "- Nombres\n",
    "  - Las funciones deben estar declaradas en minúscula y las palabras separadas por guiones bajos def funcion_cool()\n",
    "  - Los metodos privados de una clase deben comenzar con doble guion bajo def __private_method().\n",
    "  - Los métodos protegidos de una clase deben comenzar con guion bajo def _protected_method().\n",
    "  - Las clases y excepciones deben ser capitalizadas por palabra class SuperClass.\n",
    "  - Constantes del module deben estar en mayusculas separadas por guiones bajos NUMERO_MAXIMO = 10.\n",
    "  - Los métodos de instancia de una clase deben usar el parametro self como primer parámetro.\n",
    "  - Los métodos de clase deben usar cls como primer parámetro, para referirse a la misma clase.\n",
    "\n",
    "\n",
    "- Expresiones\n",
    "  - Usar negación en linea (if a is not b) en vez de negar una expresion positiva (if not a is b).\n",
    "  - No validar valores vacíos usando len if (len(lista) == 0), usar if not lista.\n",
    "  - Siempre coloca los imports al inicio del archivo.\n",
    "  - Siempre importa funciones y clases usando from my_module import MyClass en ves de importar el modulo completo import my_module\n",
    "  - Si aun debes usar imports relativos, usa la sintaxis from . import my_module\n",
    "  - Las importaciones siempre deben estar en el orden:\n",
    "    - Módulos de la librería standar.\n",
    "    - Módulos externos.\n",
    "    - Módulos del proyecto.\n",
    "    Y cada sección debe estar en orden alfabético."
   ]
  },
  {
   "cell_type": "code",
   "execution_count": null,
   "id": "whole-prerequisite",
   "metadata": {},
   "outputs": [],
   "source": []
  }
 ],
 "metadata": {
  "kernelspec": {
   "display_name": "Python 3",
   "language": "python",
   "name": "python3"
  },
  "language_info": {
   "codemirror_mode": {
    "name": "ipython",
    "version": 3
   },
   "file_extension": ".py",
   "mimetype": "text/x-python",
   "name": "python",
   "nbconvert_exporter": "python",
   "pygments_lexer": "ipython3",
   "version": "3.7.7"
  }
 },
 "nbformat": 4,
 "nbformat_minor": 5
}
