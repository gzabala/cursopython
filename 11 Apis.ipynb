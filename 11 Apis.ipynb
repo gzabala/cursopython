{
 "cells": [
  {
   "cell_type": "markdown",
   "metadata": {},
   "source": [
    "# Consumo de APIs desde Python\n",
    "\n",
    "Tenemos diversas librerías que podemos utilizar para generar peticiones a una API. La más popular de todas es requests.  \n",
    "Instalar requests haciendo  \n",
    "> pip install requests  \n",
    "\n",
    "Otra conocida es urllib3.  \n",
    "\n",
    "Arranquemos analizando qué nos devuelve un pedido a una url."
   ]
  },
  {
   "cell_type": "code",
   "execution_count": null,
   "metadata": {},
   "outputs": [],
   "source": [
    "#Get a una URL\n",
    "import requests\n",
    "url=\"https://www.google.com.ar/\"\n",
    "\n",
    "# genera un objeto de la clase Response. 200 es el código que indica que el procedimiento fue realizado correctamente\n",
    "resp=requests.get(url)\n",
    "print(resp)\n",
    "\n"
   ]
  },
  {
   "cell_type": "markdown",
   "metadata": {},
   "source": [
    "- 1XX: información\n",
    "- 2XX: éxito\n",
    "- 3XX: redireccionamiento\n",
    "- 4XX: error del cliente (usted cometió un error)\n",
    "- 5XX: error del servidor (se cometió un error en este)"
   ]
  },
  {
   "cell_type": "code",
   "execution_count": null,
   "metadata": {},
   "outputs": [],
   "source": [
    "#Para ver código de status\n",
    "import requests\n",
    "url=\"https://www.google.com.ar/test.html\"\n",
    "# genera un objeto de la clase Response. 200 es el código que indica que el procedimiento fue realizado correctamente\n",
    "resp=requests.get(url)\n",
    "print(resp.status_code)"
   ]
  },
  {
   "cell_type": "code",
   "execution_count": null,
   "metadata": {},
   "outputs": [],
   "source": [
    "import requests\n",
    "url=\"https://www.google.com.ar/\"\n",
    "resp=requests.get(url)\n",
    "if resp: #la clase Response tiene implementado __bool__ para permitir esto\n",
    "    print(\"Tuve éxito!!!\")\n",
    "else:\n",
    "    print(f\"No pude acceder por error {resp.status_code}\")"
   ]
  },
  {
   "cell_type": "code",
   "execution_count": null,
   "metadata": {},
   "outputs": [],
   "source": [
    "# En la propiedad content del objeto que me devuelve requests.get (Objeto de la clase Response) \n",
    "# tenemos lo que retorna el método get\n",
    "import requests\n",
    "url=\"https://www.google.com.ar\"\n",
    "resp=requests.get(url)\n",
    "print(type(resp))\n",
    "if resp:\n",
    "    print(\"Todo anduvo perfecto!\")\n",
    "    #Content presenta el contenido de la respuesta, como si hiciéramos la inspección de la página\n",
    "    print(resp.content)"
   ]
  },
  {
   "cell_type": "code",
   "execution_count": null,
   "metadata": {},
   "outputs": [],
   "source": [
    "# Qué ocurre si escribo un archivo con lo devuelto?\n",
    "import requests\n",
    "url=\"https://www.google.com.ar\"\n",
    "resp=requests.get(url)\n",
    "if resp:\n",
    "    #Por qué lo tengo que escribir como byte?\n",
    "    print(type(resp.content))\n",
    "    with open(\"test.html\", mode=\"wb\") as file:\n",
    "        file.write(resp.content)"
   ]
  },
  {
   "cell_type": "markdown",
   "metadata": {},
   "source": [
    "Arranquemos con REST. Para testear, usaremos httpbin.org "
   ]
  },
  {
   "cell_type": "code",
   "execution_count": null,
   "metadata": {},
   "outputs": [],
   "source": [
    "# Cómo decodificamos a texto un array de bytes\n",
    "import requests\n",
    "url=\"http://httpbin.org/get\"\n",
    "resp=requests.get(url)\n",
    "if resp:\n",
    "#     print(resp.content)\n",
    "    #Es un array de bytes\n",
    "#     print(resp.content.decode(\"utf-8\"))\n",
    "    # Si sabemos que lo que devuelve es un texto, directamente podemos pedir\n",
    "     print(resp.text)"
   ]
  },
  {
   "cell_type": "code",
   "execution_count": null,
   "metadata": {},
   "outputs": [],
   "source": [
    "#Uso de argumentos en el get\n",
    "import requests\n",
    "url=\"http://httpbin.org/get?id=724&month=5\"\n",
    "resp=requests.get(url)\n",
    "if resp:\n",
    "    print(resp.content.decode(\"utf-8\"))\n",
    "    "
   ]
  },
  {
   "cell_type": "code",
   "execution_count": null,
   "metadata": {},
   "outputs": [],
   "source": [
    "#Conversión a json (diccionario)\n",
    "import requests\n",
    "url=\"http://httpbin.org/get?id=724&month=5\"\n",
    "resp=requests.get(url)\n",
    "if resp:\n",
    "    dict=resp.json()\n",
    "#     print(f\"Todo el diccionario: {dict}\")\n",
    "#     print(f\"Args: {dict['args']}\")\n",
    "    print(f\"Mes: {dict['args']['month']}\")"
   ]
  },
  {
   "cell_type": "code",
   "execution_count": null,
   "metadata": {},
   "outputs": [],
   "source": [
    "#Una forma más cool (y dinámica) de pasar parámetros\n",
    "import requests\n",
    "#Otra forma de cargar del json\n",
    "import json\n",
    "url=\"http://httpbin.org/get\"\n",
    "argum={\"id\":724, \"month\":5}\n",
    "resp=requests.get(url, params=argum)\n",
    "#Armó la URL como antes\n",
    "print(resp.url)\n",
    "\n",
    "if resp:\n",
    "    print(\"---\")\n",
    "    #Otra forma de convertir a json\n",
    "    #Utilizo la librería de json para convertir el array de bytes\n",
    "    resu=json.loads(resp.text)\n",
    "    print(resu[\"args\"])\n",
    "    "
   ]
  },
  {
   "cell_type": "markdown",
   "metadata": {},
   "source": [
    "## Diferencias entre get y post\n",
    "\n",
    "La diferencia entre get y post no es sólo cómo se realiza el pasaje de parámetros. \n",
    "Ambos envían la petición al servidor mediante un *request* y reciben el resultado de la petición mediante un *response*.  \n",
    "PERO, el método get está pensado para obtener información del servidor, y los datos que envío sirven para parametrizar esa solicitud. Por lo tanto, el eje está puesto en la devolución de un resultado. En el caso del post, la intención es enviar datos para que el servidor actualice o almacene. Ojo, uno podría hacer lo que hace con el get, mediante un post, y viceversa, pero no tiene sentido, por que además, nos encontramos con las siguientes diferencias:  \n",
    "\n",
    "<center><img src=\"images/difgetypost.png\" alt=\"\" title=\"Diferencias entre get y post\" /></center><br>"
   ]
  },
  {
   "cell_type": "code",
   "execution_count": 40,
   "metadata": {},
   "outputs": [
    {
     "name": "stdout",
     "output_type": "stream",
     "text": [
      "{\n",
      "    \"args\": {},\n",
      "    \"data\": \"{\\\"producto\\\": \\\"papa\\\", \\\"precio\\\": 55}\",\n",
      "    \"files\": {},\n",
      "    \"form\": {},\n",
      "    \"headers\": {\n",
      "        \"Accept\": \"*/*\",\n",
      "        \"Accept-Encoding\": \"gzip, deflate\",\n",
      "        \"Content-Length\": \"34\",\n",
      "        \"Content-Type\": \"application/json\",\n",
      "        \"Host\": \"httpbin.org\",\n",
      "        \"User-Agent\": \"python-requests/2.24.0\",\n",
      "        \"X-Amzn-Trace-Id\": \"Root=1-60f758b4-2ceb48a220a871161d5db7a6\"\n",
      "    },\n",
      "    \"json\": {\n",
      "        \"precio\": 55,\n",
      "        \"producto\": \"papa\"\n",
      "    },\n",
      "    \"origin\": \"190.245.162.205\",\n",
      "    \"url\": \"http://httpbin.org/post\"\n",
      "}\n"
     ]
    }
   ],
   "source": [
    "#Hagamos un post ahora\n",
    "\n",
    "import requests\n",
    "import json\n",
    "url=\"http://httpbin.org/post\"\n",
    "# Armamos un diccionario con los datos que queremos enviar\n",
    "payload={\"producto\":\"papa\", \"precio\":55}\n",
    "# Voy a realizar mi petición y los datos, ya serializados, van a estar dentro del atributo data. \n",
    "# Y en el json podemos verlos más legibles\n",
    "resp=requests.post(url, json=payload)\n",
    "\n",
    "if resp:\n",
    "    resu=json.loads(resp.text)\n",
    "#     print(resu)\n",
    "    #Imprimiendo json bonito\n",
    "    print(json.dumps(resu, indent=4))"
   ]
  },
  {
   "cell_type": "markdown",
   "metadata": {},
   "source": [
    "# Encabezados\n",
    "\n",
    "Cliente y servidor envían encabezados. Ciertos datos se envían habitualmente en encabezados, por ejemplo OAuth."
   ]
  },
  {
   "cell_type": "code",
   "execution_count": 47,
   "metadata": {},
   "outputs": [
    {
     "name": "stdout",
     "output_type": "stream",
     "text": [
      "Tue, 20 Jul 2021 23:18:03 GMT\n",
      "{\n",
      "    \"args\": {},\n",
      "    \"data\": \"{\\\"producto\\\": \\\"papa\\\", \\\"precio\\\": 55}\",\n",
      "    \"files\": {},\n",
      "    \"form\": {},\n",
      "    \"headers\": {\n",
      "        \"Accept\": \"*/*\",\n",
      "        \"Accept-Encoding\": \"gzip, deflate\",\n",
      "        \"Access-Token\": \"yweersj67\",\n",
      "        \"Content-Length\": \"34\",\n",
      "        \"Content-Type\": \"application/text\",\n",
      "        \"Host\": \"httpbin.org\",\n",
      "        \"User-Agent\": \"python-requests/2.24.0\",\n",
      "        \"X-Amzn-Trace-Id\": \"Root=1-60f759ab-3bf42eb261423e4308a1cf7c\"\n",
      "    },\n",
      "    \"json\": {\n",
      "        \"precio\": 55,\n",
      "        \"producto\": \"papa\"\n",
      "    },\n",
      "    \"origin\": \"190.245.162.205\",\n",
      "    \"url\": \"http://httpbin.org/post\"\n",
      "}\n"
     ]
    }
   ],
   "source": [
    "# Para obtener los encabezados del response solicitamos el atributo headers\n",
    "\n",
    "import requests\n",
    "import json\n",
    "url=\"http://httpbin.org/post\"\n",
    "payload={\"producto\":\"papa\", \"precio\":55}\n",
    "# En el encabezado indico que envío datos de tipo json y el access token\n",
    "encabezados={ 'Content-Type':'application/text', 'Access-Token':'yweersj67'}\n",
    "# Paso como parámetro headers el diccionario con los encabezados\n",
    "resp=requests.post(url, json=payload, headers=encabezados)\n",
    "\n",
    "if resp:\n",
    "    resu=json.loads(resp.text)\n",
    "#     print(resp.headers)\n",
    "    print(resp.headers['Date'])\n",
    "    print(json.dumps(resu, indent=4))\n"
   ]
  },
  {
   "cell_type": "markdown",
   "metadata": {
    "tags": []
   },
   "source": [
    "## PUT y DELETE\n",
    "\n",
    "Nada nuevo bajo el sol, los construyo de la misma manera que hago un POST, solo que en el servidor, cuando los reciba, realizaré una acción asociada. Habitualmente usamos PUT cuando queremos actualizar o crear un recurso, y DELETE cuando lo queremos borrar."
   ]
  },
  {
   "cell_type": "code",
   "execution_count": 48,
   "metadata": {},
   "outputs": [
    {
     "name": "stdout",
     "output_type": "stream",
     "text": [
      "{\n",
      "    \"args\": {},\n",
      "    \"data\": \"{\\\"producto\\\": \\\"papa\\\", \\\"precio\\\": 55}\",\n",
      "    \"files\": {},\n",
      "    \"form\": {},\n",
      "    \"headers\": {\n",
      "        \"Accept\": \"*/*\",\n",
      "        \"Accept-Encoding\": \"gzip, deflate\",\n",
      "        \"Content-Length\": \"34\",\n",
      "        \"Content-Type\": \"application/json\",\n",
      "        \"Host\": \"httpbin.org\",\n",
      "        \"User-Agent\": \"python-requests/2.24.0\",\n",
      "        \"X-Amzn-Trace-Id\": \"Root=1-60f759de-224301e253a3f08c4646300b\"\n",
      "    },\n",
      "    \"json\": {\n",
      "        \"precio\": 55,\n",
      "        \"producto\": \"papa\"\n",
      "    },\n",
      "    \"origin\": \"190.245.162.205\",\n",
      "    \"url\": \"http://httpbin.org/put\"\n",
      "}\n"
     ]
    }
   ],
   "source": [
    "import requests\n",
    "\n",
    "url=\"http://httpbin.org/put\"\n",
    "payload={\"producto\":\"papa\", \"precio\":55}\n",
    "resp=requests.put(url, json=payload)\n",
    "\n",
    "if resp:\n",
    "    resu=json.loads(resp.text)\n",
    "    print(json.dumps(resu, indent=4))\n"
   ]
  },
  {
   "cell_type": "code",
   "execution_count": 49,
   "metadata": {},
   "outputs": [
    {
     "name": "stdout",
     "output_type": "stream",
     "text": [
      "{\n",
      "    \"args\": {},\n",
      "    \"data\": \"{\\\"producto\\\": \\\"papa\\\", \\\"precio\\\": 55}\",\n",
      "    \"files\": {},\n",
      "    \"form\": {},\n",
      "    \"headers\": {\n",
      "        \"Accept\": \"*/*\",\n",
      "        \"Accept-Encoding\": \"gzip, deflate\",\n",
      "        \"Content-Length\": \"34\",\n",
      "        \"Content-Type\": \"application/json\",\n",
      "        \"Host\": \"httpbin.org\",\n",
      "        \"User-Agent\": \"python-requests/2.24.0\",\n",
      "        \"X-Amzn-Trace-Id\": \"Root=1-60f759ec-02a7663640fddf6e0f0b2122\"\n",
      "    },\n",
      "    \"json\": {\n",
      "        \"precio\": 55,\n",
      "        \"producto\": \"papa\"\n",
      "    },\n",
      "    \"origin\": \"190.245.162.205\",\n",
      "    \"url\": \"http://httpbin.org/delete\"\n",
      "}\n"
     ]
    }
   ],
   "source": [
    "import requests\n",
    "\n",
    "url=\"http://httpbin.org/delete\"\n",
    "payload={\"producto\":\"papa\", \"precio\":55}\n",
    "resp=requests.delete(url, json=payload)\n",
    "\n",
    "if resp:\n",
    "    resu=json.loads(resp.text)\n",
    "    print(json.dumps(resu, indent=4))"
   ]
  },
  {
   "cell_type": "code",
   "execution_count": null,
   "metadata": {},
   "outputs": [],
   "source": []
  }
 ],
 "metadata": {
  "kernelspec": {
   "display_name": "Python 3",
   "language": "python",
   "name": "python3"
  },
  "language_info": {
   "codemirror_mode": {
    "name": "ipython",
    "version": 3
   },
   "file_extension": ".py",
   "mimetype": "text/x-python",
   "name": "python",
   "nbconvert_exporter": "python",
   "pygments_lexer": "ipython3",
   "version": "3.7.7"
  }
 },
 "nbformat": 4,
 "nbformat_minor": 4
}
