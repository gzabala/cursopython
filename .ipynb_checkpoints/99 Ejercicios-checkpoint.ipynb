{
 "cells": [
  {
   "cell_type": "markdown",
   "id": "golden-toolbox",
   "metadata": {},
   "source": [
    "# Ejercicios\n",
    "\n",
    "1. Dado un número entero, imprimir la cantidad de dígitos.\n",
    "2. Dada una cadena, imprimir la primer palabra (la cadena sólo contiene letras y espacios)\n",
    "3. Dada una lista y un elemento, imprimir la lista a partir de ese elemento. Por ejemplo, si la lista es [4, 8, 3, 2, 7, 5] y el elemento es 3, imprimir [3, 2, 7, 5]\n",
    "4. Dada una cadena, indicar si están todos sus caracteres en mayúsculas (la cadena tiene caracteres alfanuméricos, numéricos y espacios.\n",
    "5. ¿Existe un método \"opuesto\" a join? Buscarlo y dar un ejemplo de uso. \"1,2,3,4,5\" -> [1, 2, 3, 4, 5]\n",
    "6. Dada una lista, imprimirla al revés.\n",
    "7. Dada una lista, el primer elemento debe pasar al final. Si la lista está vacía o tiene un único elemento, debe quedar igual.\n",
    "8. Dado un número entero, indicar cuál de sus dígitos es el mayor.  \n",
    "Hasta aquí para el martes 15/6\n",
    "---\n",
    "\n",
    "9. Dada una palabra, imprimir \"Longitud válida\" si tiene 6 o más caracteres.\n",
    "10. Dado un número entero, imprimir la cantidad de ceros que hay al final del número.\n",
    "\n"
   ]
  },
  {
   "cell_type": "code",
   "execution_count": null,
   "id": "potential-yesterday",
   "metadata": {},
   "outputs": [],
   "source": []
  }
 ],
 "metadata": {
  "kernelspec": {
   "display_name": "Python 3",
   "language": "python",
   "name": "python3"
  },
  "language_info": {
   "codemirror_mode": {
    "name": "ipython",
    "version": 3
   },
   "file_extension": ".py",
   "mimetype": "text/x-python",
   "name": "python",
   "nbconvert_exporter": "python",
   "pygments_lexer": "ipython3",
   "version": "3.7.7"
  }
 },
 "nbformat": 4,
 "nbformat_minor": 5
}
