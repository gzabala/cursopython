{
 "cells": [
  {
   "cell_type": "markdown",
   "id": "running-brick",
   "metadata": {},
   "source": [
    "# For (o de cómo recorrer secuencias)\n",
    "Tiene una concepción distinta a los lenguajes tradicionales.  \n",
    "Recorre elementos de una secuencia en el orden de aparición.  \n",
    "**La definición del alcance de la estructura se hace mediante indentación** (PEP8 = 4 espacios)  \n",
    "  \n",
    "for *contenedor* in *secuencia*:  \n",
    "&emsp; *código*"
   ]
  },
  {
   "cell_type": "code",
   "execution_count": null,
   "id": "severe-compiler",
   "metadata": {},
   "outputs": [],
   "source": [
    "lista=[\"a\", \"casa\", 34]\n",
    "for elemento in lista:\n",
    "    print(elemento)"
   ]
  },
  {
   "cell_type": "code",
   "execution_count": null,
   "id": "fancy-garage",
   "metadata": {},
   "outputs": [],
   "source": [
    "cadena=\"Este es otro ejemplo de secuencia\"\n",
    "for carac in cadena:\n",
    "    print(carac)"
   ]
  },
  {
   "cell_type": "markdown",
   "id": "major-bicycle",
   "metadata": {},
   "source": [
    "Si queremos hacer el uso clásico de *for* tenemos el método range que nos crea una secuencia numérica, como ya vimos.\n",
    "**range([*start*,] *end*, [*step*])**"
   ]
  },
  {
   "cell_type": "code",
   "execution_count": null,
   "id": "incorrect-withdrawal",
   "metadata": {},
   "outputs": [],
   "source": [
    "# Agregamos el * para que lo muestre como una lista\n",
    "print(*range(10))\n",
    "print(*range(5)) # no incluye el end, empieza en 0 si no indico start\n",
    "print(*range(3,10))\n",
    "print(*range(4, 12, 3))"
   ]
  },
  {
   "cell_type": "code",
   "execution_count": null,
   "id": "bright-shopping",
   "metadata": {},
   "outputs": [],
   "source": [
    "for i in range(3, 10, 2):\n",
    "    print(i)"
   ]
  },
  {
   "cell_type": "markdown",
   "id": "bearing-river",
   "metadata": {},
   "source": [
    "Con **break** podemos salir de un for"
   ]
  },
  {
   "cell_type": "code",
   "execution_count": null,
   "id": "catholic-coordinator",
   "metadata": {},
   "outputs": [],
   "source": [
    "# Suma los números hasta llegar a la primera aparición de un nro límite (incluido)\n",
    "lista=[5,7,12,3,6,4,9]\n",
    "limite=12\n",
    "sum=0\n",
    "for ele in lista:\n",
    "    sum+=ele\n",
    "    if ele==limite:\n",
    "        break\n",
    "print(sum)"
   ]
  },
  {
   "cell_type": "markdown",
   "id": "assured-bangkok",
   "metadata": {},
   "source": [
    "Con **continue** vuelvo al loop salteando lo que sigue"
   ]
  },
  {
   "cell_type": "code",
   "execution_count": null,
   "id": "mental-quest",
   "metadata": {},
   "outputs": [],
   "source": [
    "# Imprime los nros mayores a 5\n",
    "lista=[5,7,12,3,6,4,9]\n",
    "for ele in lista:\n",
    "    if ele<=5:\n",
    "        continue\n",
    "    print(ele)\n"
   ]
  },
  {
   "cell_type": "code",
   "execution_count": null,
   "id": "exempt-monthly",
   "metadata": {},
   "outputs": [],
   "source": [
    "# Más bonito es\n",
    "# Imprime los nros mayores a 5\n",
    "lista=[5,7,12,3,6,4,9]\n",
    "for ele in lista:\n",
    "    if ele>5:\n",
    "        print(ele)"
   ]
  },
  {
   "cell_type": "markdown",
   "id": "minor-indonesia",
   "metadata": {},
   "source": [
    "# While (nada nuevo bajo el frente)\n",
    "**while *expresión booleana*:**  \n",
    "&emsp; ***bloque de código***  \n",
    "  \n",
    "Break y continue se usan de la misma manera."
   ]
  },
  {
   "cell_type": "code",
   "execution_count": null,
   "id": "renewable-subscriber",
   "metadata": {},
   "outputs": [],
   "source": [
    "import random\n",
    "lista=list(range(0,1000))\n",
    "random.shuffle(lista)\n",
    "print(lista[:30])\n",
    "pos=0\n",
    "while(lista[pos]<800):\n",
    "    pos+=1\n",
    "print(\"Cuántos elementos menores a 800 tengo en el comienzo de la lista: \", pos)"
   ]
  },
  {
   "cell_type": "markdown",
   "id": "fantastic-foster",
   "metadata": {},
   "source": [
    "# If\n",
    "**if *expresión booleana*:**  \n",
    "&emsp;***bloque de código***  \n",
    "**elif *expresión booleana*:**  \n",
    "&emsp;***bloque de código***  \n",
    "**elif *expresión booleana*:**  \n",
    "&emsp;***bloque de código***  \n",
    "**else *expresión booleana*:**  \n",
    "&emsp;***bloque de código***  \n"
   ]
  },
  {
   "cell_type": "code",
   "execution_count": null,
   "id": "understanding-accent",
   "metadata": {},
   "outputs": [],
   "source": [
    "num=int(input(\"Ingrese un número del 1 al 10\"))\n",
    "if num>10:\n",
    "    print(\"Pero che...\")\n",
    "elif num%2==0 and num!=2:\n",
    "    print(\"El nro es par\")\n",
    "elif num%3==0 and num!=3:\n",
    "    print(\"El nro es múltiplo de 3\")\n",
    "elif num%5==0 and num!=5:\n",
    "    print(\"El nro es múltiplo de 5\")\n",
    "else:\n",
    "    print(\"El nro es primo\")"
   ]
  },
  {
   "cell_type": "markdown",
   "id": "least-booking",
   "metadata": {},
   "source": [
    "*if corto*  \n",
    "**if *expresión booleana*: *sentencia***  \n",
    "  \n",
    "*if else corto*  \n",
    "***sentencia* if *exp booleana* else *sentencia***"
   ]
  },
  {
   "cell_type": "code",
   "execution_count": null,
   "id": "moderate-rebound",
   "metadata": {},
   "outputs": [],
   "source": [
    "edad=23\n",
    "if edad>=18: print(\"Puede ingresar\")\n",
    "#print(\"Puede ingresar\") if edad>=18 else print(\"No permitido!\")"
   ]
  },
  {
   "cell_type": "code",
   "execution_count": null,
   "id": "atomic-incentive",
   "metadata": {},
   "outputs": [],
   "source": [
    "# Si querés dejar un bloque de código sin sentencias aún, podés usar pass\n",
    "if 5>3:\n",
    "    pass\n",
    "# Sí o sí tenés que ponerlo, no lo podés dejar vacío. lo completás luego... Esto sirve para todas las estructuras"
   ]
  }
 ],
 "metadata": {
  "kernelspec": {
   "display_name": "Python 3",
   "language": "python",
   "name": "python3"
  },
  "language_info": {
   "codemirror_mode": {
    "name": "ipython",
    "version": 3
   },
   "file_extension": ".py",
   "mimetype": "text/x-python",
   "name": "python",
   "nbconvert_exporter": "python",
   "pygments_lexer": "ipython3",
   "version": "3.7.7"
  }
 },
 "nbformat": 4,
 "nbformat_minor": 5
}
